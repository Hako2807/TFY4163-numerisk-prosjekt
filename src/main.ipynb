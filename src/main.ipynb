{
 "cells": [
  {
   "cell_type": "markdown",
   "metadata": {},
   "source": [
    "# Fjerde ordens Runge-Kutta metode for drevet harmonisk pendel\n",
    "## Numerisk prosjekt vår 2025\n",
    "Håkon Støren og Vetle Støren"
   ]
  },
  {
   "cell_type": "markdown",
   "metadata": {},
   "source": [
    "Som gitt i oppgaven har vi at \n",
    "\\begin{equation*}\n",
    "    \\frac{\\textrm{d}^2\\theta}{\\textrm{d}t^2} + q\\frac{\\textrm{d}\\theta}{\\textrm{d}t}+\\frac{g}{l}\\sin{(\\theta)}=\\frac{F_D}{ml}\\sin{(\\omega_D t)},\n",
    "\\end{equation*}\n",
    "hvor\n",
    "- $\\theta$ er utslagsvinkelen til pendelen,\n",
    "- $g$ er tyngdeakselerasjonen,\n",
    "- $l$ er lengden av snora,\n",
    "- $q$ er en friksjonsparamter,\n",
    "- $\\frac{F_D}{ml}$ er drivkraften som pendelen blir utsatt for,\n",
    "- $\\omega_D$ er drivkraftens vinkelfrekvens. \\\n",
    "Vi har også fra oppgaveteksten at\n",
    "- $\\omega_0 = \\sqrt{g/l}$ og er pendelens vinkelfrekvens\n",
    "\n",
    "Vi antar at $\\sin{\\theta}\\approx\\theta$"
   ]
  },
  {
   "cell_type": "code",
   "execution_count": 1,
   "metadata": {},
   "outputs": [],
   "source": [
    "# Importerer alle bibliotekene vi trenger\n",
    "import numpy as np\n",
    "import matplotlib.pyplot as plt\n",
    "import scipy as sci"
   ]
  },
  {
   "cell_type": "code",
   "execution_count": 2,
   "metadata": {},
   "outputs": [],
   "source": [
    "# Initialiserer alle konstanter\n",
    "l = 1                   # m, lengden av snora\n",
    "g = 9.8                 # m/s^2, tyngdeakselerasjon\n",
    "theta_0 = 0.2           # rad, initiell vinkel med hensyn til vertikalen\n",
    "theta_dot_0 = 0         # rad/s, initiell vinkelhastighet\n",
    "q = 1.0                 # s^-1, friksjonsparameter\n",
    "w_D = 3.13              # rad/s, drivkraftens vinkelfrekvens\n",
    "drivkraft = 0.2         # s^-2, F_D/(ml)\n"
   ]
  },
  {
   "cell_type": "code",
   "execution_count": null,
   "metadata": {},
   "outputs": [],
   "source": []
  }
 ],
 "metadata": {
  "kernelspec": {
   "display_name": "Python 3",
   "language": "python",
   "name": "python3"
  },
  "language_info": {
   "codemirror_mode": {
    "name": "ipython",
    "version": 3
   },
   "file_extension": ".py",
   "mimetype": "text/x-python",
   "name": "python",
   "nbconvert_exporter": "python",
   "pygments_lexer": "ipython3",
   "version": "3.11.1"
  }
 },
 "nbformat": 4,
 "nbformat_minor": 2
}
